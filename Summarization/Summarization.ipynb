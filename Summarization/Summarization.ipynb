{
 "cells": [
  {
   "cell_type": "markdown",
   "id": "16bab3fc-d83f-40fd-8ca4-8590f72b3114",
   "metadata": {},
   "source": [
    "# Data Science 346 Project Stellenbosch University\n",
    "### Team:\n",
    "- David Nicolay\n",
    "- Kellen Mossner\n",
    "- Matthew Holm"
   ]
  },
  {
   "cell_type": "code",
   "execution_count": 1,
   "id": "8157126f-431f-448c-94bb-4b8464043d6b",
   "metadata": {},
   "outputs": [
    {
     "name": "stderr",
     "output_type": "stream",
     "text": [
      "2024-10-16 10:43:37.192911: I tensorflow/core/util/port.cc:153] oneDNN custom operations are on. You may see slightly different numerical results due to floating-point round-off errors from different computation orders. To turn them off, set the environment variable `TF_ENABLE_ONEDNN_OPTS=0`.\n",
      "2024-10-16 10:43:37.213936: I tensorflow/core/platform/cpu_feature_guard.cc:210] This TensorFlow binary is optimized to use available CPU instructions in performance-critical operations.\n",
      "To enable the following instructions: AVX2 AVX_VNNI FMA, in other operations, rebuild TensorFlow with the appropriate compiler flags.\n"
     ]
    }
   ],
   "source": [
    "# Libraries\n",
    "import pandas as pd\n",
    "from transformers import pipeline, AutoTokenizer\n",
    "\n",
    "import tensorflow as tf\n",
    "from sklearn.model_selection import train_test_split\n",
    "from sklearn.preprocessing import LabelEncoder\n",
    "from tensorflow.keras.preprocessing.text import Tokenizer\n",
    "from tensorflow.keras.preprocessing.sequence import pad_sequences\n",
    "from tensorflow.keras import layers\n",
    "\n",
    "from langdetect import detect, DetectorFactory\n",
    "import re\n",
    "from sklearn.feature_extraction.text import TfidfVectorizer\n",
    "import numpy as np\n",
    "\n",
    "# Set Random seed for reproducible results\n",
    "random_seed = 100 "
   ]
  },
  {
   "cell_type": "code",
   "execution_count": 2,
   "id": "06525152-c482-4311-aa23-f2b53204eba0",
   "metadata": {},
   "outputs": [],
   "source": [
    "# Additional Libraries\n"
   ]
  },
  {
   "cell_type": "markdown",
   "id": "3caea788-fb05-4751-87eb-22194b033b23",
   "metadata": {},
   "source": [
    "# Data Pre-processing"
   ]
  },
  {
   "cell_type": "markdown",
   "id": "6281542c-d91f-41d8-83e9-93a9156093f7",
   "metadata": {},
   "source": [
    "Load data:"
   ]
  },
  {
   "cell_type": "code",
   "execution_count": 3,
   "id": "2703d11d-77df-4cac-be67-7281b193669b",
   "metadata": {},
   "outputs": [
    {
     "data": {
      "text/html": [
       "<div>\n",
       "<style scoped>\n",
       "    .dataframe tbody tr th:only-of-type {\n",
       "        vertical-align: middle;\n",
       "    }\n",
       "\n",
       "    .dataframe tbody tr th {\n",
       "        vertical-align: top;\n",
       "    }\n",
       "\n",
       "    .dataframe thead th {\n",
       "        text-align: right;\n",
       "    }\n",
       "</style>\n",
       "<table border=\"1\" class=\"dataframe\">\n",
       "  <thead>\n",
       "    <tr style=\"text-align: right;\">\n",
       "      <th></th>\n",
       "      <th>Book Title</th>\n",
       "      <th>Link</th>\n",
       "      <th>Review Text</th>\n",
       "      <th>Review Date</th>\n",
       "      <th>Review Stars</th>\n",
       "      <th>Review Likes</th>\n",
       "    </tr>\n",
       "  </thead>\n",
       "  <tbody>\n",
       "    <tr>\n",
       "      <th>0</th>\n",
       "      <td>Ways of Seeing</td>\n",
       "      <td>https://www.goodreads.com/book/show/2784.Ways_...</td>\n",
       "      <td>This book is based on a television series whic...</td>\n",
       "      <td>September 29, 2014</td>\n",
       "      <td>5</td>\n",
       "      <td>513</td>\n",
       "    </tr>\n",
       "    <tr>\n",
       "      <th>1</th>\n",
       "      <td>Ways of Seeing</td>\n",
       "      <td>https://www.goodreads.com/book/show/2784.Ways_...</td>\n",
       "      <td>I am not the audience for this book, mainly be...</td>\n",
       "      <td>June 3, 2014</td>\n",
       "      <td>3</td>\n",
       "      <td>216</td>\n",
       "    </tr>\n",
       "    <tr>\n",
       "      <th>2</th>\n",
       "      <td>Ways of Seeing</td>\n",
       "      <td>https://www.goodreads.com/book/show/2784.Ways_...</td>\n",
       "      <td>Way of Seeing, John Berger Ways of Seeing is a...</td>\n",
       "      <td>October 21, 2021</td>\n",
       "      <td>4</td>\n",
       "      <td>0</td>\n",
       "    </tr>\n",
       "    <tr>\n",
       "      <th>3</th>\n",
       "      <td>Ways of Seeing</td>\n",
       "      <td>https://www.goodreads.com/book/show/2784.Ways_...</td>\n",
       "      <td>First of all, this entire book is set in bold....</td>\n",
       "      <td>May 25, 2008</td>\n",
       "      <td>4</td>\n",
       "      <td>106</td>\n",
       "    </tr>\n",
       "    <tr>\n",
       "      <th>4</th>\n",
       "      <td>Ways of Seeing</td>\n",
       "      <td>https://www.goodreads.com/book/show/2784.Ways_...</td>\n",
       "      <td>This was a great introduction to the work of J...</td>\n",
       "      <td>March 12, 2020</td>\n",
       "      <td>4</td>\n",
       "      <td>80</td>\n",
       "    </tr>\n",
       "  </tbody>\n",
       "</table>\n",
       "</div>"
      ],
      "text/plain": [
       "       Book Title                                               Link  \\\n",
       "0  Ways of Seeing  https://www.goodreads.com/book/show/2784.Ways_...   \n",
       "1  Ways of Seeing  https://www.goodreads.com/book/show/2784.Ways_...   \n",
       "2  Ways of Seeing  https://www.goodreads.com/book/show/2784.Ways_...   \n",
       "3  Ways of Seeing  https://www.goodreads.com/book/show/2784.Ways_...   \n",
       "4  Ways of Seeing  https://www.goodreads.com/book/show/2784.Ways_...   \n",
       "\n",
       "                                         Review Text         Review Date  \\\n",
       "0  This book is based on a television series whic...  September 29, 2014   \n",
       "1  I am not the audience for this book, mainly be...        June 3, 2014   \n",
       "2  Way of Seeing, John Berger Ways of Seeing is a...    October 21, 2021   \n",
       "3  First of all, this entire book is set in bold....        May 25, 2008   \n",
       "4  This was a great introduction to the work of J...      March 12, 2020   \n",
       "\n",
       "   Review Stars  Review Likes  \n",
       "0             5           513  \n",
       "1             3           216  \n",
       "2             4             0  \n",
       "3             4           106  \n",
       "4             4            80  "
      ]
     },
     "execution_count": 3,
     "metadata": {},
     "output_type": "execute_result"
    }
   ],
   "source": [
    "# Import Data\n",
    "reviews = pd.read_csv(\"../WebScrapingExplore/data/goodreads_reviews_all.csv\")\n",
    "reviews.head()"
   ]
  },
  {
   "cell_type": "code",
   "execution_count": 4,
   "id": "0e4d9244-2fe3-4501-8941-9e2d77736ba3",
   "metadata": {},
   "outputs": [
    {
     "name": "stdout",
     "output_type": "stream",
     "text": [
      "<class 'pandas.core.frame.DataFrame'>\n",
      "RangeIndex: 29519 entries, 0 to 29518\n",
      "Data columns (total 6 columns):\n",
      " #   Column        Non-Null Count  Dtype \n",
      "---  ------        --------------  ----- \n",
      " 0   Book Title    29519 non-null  object\n",
      " 1   Link          29519 non-null  object\n",
      " 2   Review Text   29247 non-null  object\n",
      " 3   Review Date   29519 non-null  object\n",
      " 4   Review Stars  29519 non-null  int64 \n",
      " 5   Review Likes  29519 non-null  int64 \n",
      "dtypes: int64(2), object(4)\n",
      "memory usage: 1.4+ MB\n"
     ]
    }
   ],
   "source": [
    "reviews.info()"
   ]
  },
  {
   "cell_type": "markdown",
   "id": "64bb9d81-b081-4986-bcd9-a7a06bf58b86",
   "metadata": {},
   "source": [
    "Through investiagting our database further"
   ]
  },
  {
   "cell_type": "code",
   "execution_count": 10,
   "id": "a0884873-89a2-40dc-bfc4-0372e2c0a02b",
   "metadata": {},
   "outputs": [],
   "source": [
    "# Function to detect language\n",
    "def is_english(review):\n",
    "    try:\n",
    "        return detect(review) == 'en'\n",
    "    except:\n",
    "        return False"
   ]
  },
  {
   "cell_type": "code",
   "execution_count": null,
   "id": "0154a7e1-b5dd-47d8-be52-65d8a7316a6e",
   "metadata": {},
   "outputs": [],
   "source": [
    "# Filter only English reviews- This may take a while\n",
    "reviews = reviews[reviews['Review Text'].apply(is_english)]"
   ]
  },
  {
   "cell_type": "code",
   "execution_count": 5,
   "id": "5f40c0b5-8259-47bc-8f9c-7cdf4f57368c",
   "metadata": {},
   "outputs": [],
   "source": [
    "# Preprocess the review text\n",
    "def preprocess_text(text):\n",
    "    text = text.lower()  # Lowercase\n",
    "    text = re.sub(r'\\d+', '', text)  # Remove digits\n",
    "    text = re.sub(r'[^\\w\\s]', '', text)  # Remove punctuation\n",
    "    text = text.strip()  # Remove leading/trailing spaces\n",
    "    return text"
   ]
  },
  {
   "cell_type": "code",
   "execution_count": 6,
   "id": "20563400-20b0-4769-beb1-6d24ec084224",
   "metadata": {},
   "outputs": [
    {
     "ename": "AttributeError",
     "evalue": "'float' object has no attribute 'lower'",
     "output_type": "error",
     "traceback": [
      "\u001b[0;31m---------------------------------------------------------------------------\u001b[0m",
      "\u001b[0;31mAttributeError\u001b[0m                            Traceback (most recent call last)",
      "Cell \u001b[0;32mIn[6], line 2\u001b[0m\n\u001b[1;32m      1\u001b[0m processed_reviews \u001b[38;5;241m=\u001b[39m reviews\u001b[38;5;241m.\u001b[39mcopy()\n\u001b[0;32m----> 2\u001b[0m processed_reviews[\u001b[38;5;124m'\u001b[39m\u001b[38;5;124mReview Text\u001b[39m\u001b[38;5;124m'\u001b[39m] \u001b[38;5;241m=\u001b[39m \u001b[43mreviews\u001b[49m\u001b[43m[\u001b[49m\u001b[38;5;124;43m'\u001b[39;49m\u001b[38;5;124;43mReview Text\u001b[39;49m\u001b[38;5;124;43m'\u001b[39;49m\u001b[43m]\u001b[49m\u001b[38;5;241;43m.\u001b[39;49m\u001b[43mapply\u001b[49m\u001b[43m(\u001b[49m\u001b[43mpreprocess_text\u001b[49m\u001b[43m)\u001b[49m\n",
      "File \u001b[0;32m~/.local/lib/python3.12/site-packages/pandas/core/series.py:4924\u001b[0m, in \u001b[0;36mSeries.apply\u001b[0;34m(self, func, convert_dtype, args, by_row, **kwargs)\u001b[0m\n\u001b[1;32m   4789\u001b[0m \u001b[38;5;28;01mdef\u001b[39;00m \u001b[38;5;21mapply\u001b[39m(\n\u001b[1;32m   4790\u001b[0m     \u001b[38;5;28mself\u001b[39m,\n\u001b[1;32m   4791\u001b[0m     func: AggFuncType,\n\u001b[0;32m   (...)\u001b[0m\n\u001b[1;32m   4796\u001b[0m     \u001b[38;5;241m*\u001b[39m\u001b[38;5;241m*\u001b[39mkwargs,\n\u001b[1;32m   4797\u001b[0m ) \u001b[38;5;241m-\u001b[39m\u001b[38;5;241m>\u001b[39m DataFrame \u001b[38;5;241m|\u001b[39m Series:\n\u001b[1;32m   4798\u001b[0m \u001b[38;5;250m    \u001b[39m\u001b[38;5;124;03m\"\"\"\u001b[39;00m\n\u001b[1;32m   4799\u001b[0m \u001b[38;5;124;03m    Invoke function on values of Series.\u001b[39;00m\n\u001b[1;32m   4800\u001b[0m \n\u001b[0;32m   (...)\u001b[0m\n\u001b[1;32m   4915\u001b[0m \u001b[38;5;124;03m    dtype: float64\u001b[39;00m\n\u001b[1;32m   4916\u001b[0m \u001b[38;5;124;03m    \"\"\"\u001b[39;00m\n\u001b[1;32m   4917\u001b[0m     \u001b[38;5;28;01mreturn\u001b[39;00m \u001b[43mSeriesApply\u001b[49m\u001b[43m(\u001b[49m\n\u001b[1;32m   4918\u001b[0m \u001b[43m        \u001b[49m\u001b[38;5;28;43mself\u001b[39;49m\u001b[43m,\u001b[49m\n\u001b[1;32m   4919\u001b[0m \u001b[43m        \u001b[49m\u001b[43mfunc\u001b[49m\u001b[43m,\u001b[49m\n\u001b[1;32m   4920\u001b[0m \u001b[43m        \u001b[49m\u001b[43mconvert_dtype\u001b[49m\u001b[38;5;241;43m=\u001b[39;49m\u001b[43mconvert_dtype\u001b[49m\u001b[43m,\u001b[49m\n\u001b[1;32m   4921\u001b[0m \u001b[43m        \u001b[49m\u001b[43mby_row\u001b[49m\u001b[38;5;241;43m=\u001b[39;49m\u001b[43mby_row\u001b[49m\u001b[43m,\u001b[49m\n\u001b[1;32m   4922\u001b[0m \u001b[43m        \u001b[49m\u001b[43margs\u001b[49m\u001b[38;5;241;43m=\u001b[39;49m\u001b[43margs\u001b[49m\u001b[43m,\u001b[49m\n\u001b[1;32m   4923\u001b[0m \u001b[43m        \u001b[49m\u001b[43mkwargs\u001b[49m\u001b[38;5;241;43m=\u001b[39;49m\u001b[43mkwargs\u001b[49m\u001b[43m,\u001b[49m\n\u001b[0;32m-> 4924\u001b[0m \u001b[43m    \u001b[49m\u001b[43m)\u001b[49m\u001b[38;5;241;43m.\u001b[39;49m\u001b[43mapply\u001b[49m\u001b[43m(\u001b[49m\u001b[43m)\u001b[49m\n",
      "File \u001b[0;32m~/.local/lib/python3.12/site-packages/pandas/core/apply.py:1427\u001b[0m, in \u001b[0;36mSeriesApply.apply\u001b[0;34m(self)\u001b[0m\n\u001b[1;32m   1424\u001b[0m     \u001b[38;5;28;01mreturn\u001b[39;00m \u001b[38;5;28mself\u001b[39m\u001b[38;5;241m.\u001b[39mapply_compat()\n\u001b[1;32m   1426\u001b[0m \u001b[38;5;66;03m# self.func is Callable\u001b[39;00m\n\u001b[0;32m-> 1427\u001b[0m \u001b[38;5;28;01mreturn\u001b[39;00m \u001b[38;5;28;43mself\u001b[39;49m\u001b[38;5;241;43m.\u001b[39;49m\u001b[43mapply_standard\u001b[49m\u001b[43m(\u001b[49m\u001b[43m)\u001b[49m\n",
      "File \u001b[0;32m~/.local/lib/python3.12/site-packages/pandas/core/apply.py:1507\u001b[0m, in \u001b[0;36mSeriesApply.apply_standard\u001b[0;34m(self)\u001b[0m\n\u001b[1;32m   1501\u001b[0m \u001b[38;5;66;03m# row-wise access\u001b[39;00m\n\u001b[1;32m   1502\u001b[0m \u001b[38;5;66;03m# apply doesn't have a `na_action` keyword and for backward compat reasons\u001b[39;00m\n\u001b[1;32m   1503\u001b[0m \u001b[38;5;66;03m# we need to give `na_action=\"ignore\"` for categorical data.\u001b[39;00m\n\u001b[1;32m   1504\u001b[0m \u001b[38;5;66;03m# TODO: remove the `na_action=\"ignore\"` when that default has been changed in\u001b[39;00m\n\u001b[1;32m   1505\u001b[0m \u001b[38;5;66;03m#  Categorical (GH51645).\u001b[39;00m\n\u001b[1;32m   1506\u001b[0m action \u001b[38;5;241m=\u001b[39m \u001b[38;5;124m\"\u001b[39m\u001b[38;5;124mignore\u001b[39m\u001b[38;5;124m\"\u001b[39m \u001b[38;5;28;01mif\u001b[39;00m \u001b[38;5;28misinstance\u001b[39m(obj\u001b[38;5;241m.\u001b[39mdtype, CategoricalDtype) \u001b[38;5;28;01melse\u001b[39;00m \u001b[38;5;28;01mNone\u001b[39;00m\n\u001b[0;32m-> 1507\u001b[0m mapped \u001b[38;5;241m=\u001b[39m \u001b[43mobj\u001b[49m\u001b[38;5;241;43m.\u001b[39;49m\u001b[43m_map_values\u001b[49m\u001b[43m(\u001b[49m\n\u001b[1;32m   1508\u001b[0m \u001b[43m    \u001b[49m\u001b[43mmapper\u001b[49m\u001b[38;5;241;43m=\u001b[39;49m\u001b[43mcurried\u001b[49m\u001b[43m,\u001b[49m\u001b[43m \u001b[49m\u001b[43mna_action\u001b[49m\u001b[38;5;241;43m=\u001b[39;49m\u001b[43maction\u001b[49m\u001b[43m,\u001b[49m\u001b[43m \u001b[49m\u001b[43mconvert\u001b[49m\u001b[38;5;241;43m=\u001b[39;49m\u001b[38;5;28;43mself\u001b[39;49m\u001b[38;5;241;43m.\u001b[39;49m\u001b[43mconvert_dtype\u001b[49m\n\u001b[1;32m   1509\u001b[0m \u001b[43m\u001b[49m\u001b[43m)\u001b[49m\n\u001b[1;32m   1511\u001b[0m \u001b[38;5;28;01mif\u001b[39;00m \u001b[38;5;28mlen\u001b[39m(mapped) \u001b[38;5;129;01mand\u001b[39;00m \u001b[38;5;28misinstance\u001b[39m(mapped[\u001b[38;5;241m0\u001b[39m], ABCSeries):\n\u001b[1;32m   1512\u001b[0m     \u001b[38;5;66;03m# GH#43986 Need to do list(mapped) in order to get treated as nested\u001b[39;00m\n\u001b[1;32m   1513\u001b[0m     \u001b[38;5;66;03m#  See also GH#25959 regarding EA support\u001b[39;00m\n\u001b[1;32m   1514\u001b[0m     \u001b[38;5;28;01mreturn\u001b[39;00m obj\u001b[38;5;241m.\u001b[39m_constructor_expanddim(\u001b[38;5;28mlist\u001b[39m(mapped), index\u001b[38;5;241m=\u001b[39mobj\u001b[38;5;241m.\u001b[39mindex)\n",
      "File \u001b[0;32m~/.local/lib/python3.12/site-packages/pandas/core/base.py:921\u001b[0m, in \u001b[0;36mIndexOpsMixin._map_values\u001b[0;34m(self, mapper, na_action, convert)\u001b[0m\n\u001b[1;32m    918\u001b[0m \u001b[38;5;28;01mif\u001b[39;00m \u001b[38;5;28misinstance\u001b[39m(arr, ExtensionArray):\n\u001b[1;32m    919\u001b[0m     \u001b[38;5;28;01mreturn\u001b[39;00m arr\u001b[38;5;241m.\u001b[39mmap(mapper, na_action\u001b[38;5;241m=\u001b[39mna_action)\n\u001b[0;32m--> 921\u001b[0m \u001b[38;5;28;01mreturn\u001b[39;00m \u001b[43malgorithms\u001b[49m\u001b[38;5;241;43m.\u001b[39;49m\u001b[43mmap_array\u001b[49m\u001b[43m(\u001b[49m\u001b[43marr\u001b[49m\u001b[43m,\u001b[49m\u001b[43m \u001b[49m\u001b[43mmapper\u001b[49m\u001b[43m,\u001b[49m\u001b[43m \u001b[49m\u001b[43mna_action\u001b[49m\u001b[38;5;241;43m=\u001b[39;49m\u001b[43mna_action\u001b[49m\u001b[43m,\u001b[49m\u001b[43m \u001b[49m\u001b[43mconvert\u001b[49m\u001b[38;5;241;43m=\u001b[39;49m\u001b[43mconvert\u001b[49m\u001b[43m)\u001b[49m\n",
      "File \u001b[0;32m~/.local/lib/python3.12/site-packages/pandas/core/algorithms.py:1743\u001b[0m, in \u001b[0;36mmap_array\u001b[0;34m(arr, mapper, na_action, convert)\u001b[0m\n\u001b[1;32m   1741\u001b[0m values \u001b[38;5;241m=\u001b[39m arr\u001b[38;5;241m.\u001b[39mastype(\u001b[38;5;28mobject\u001b[39m, copy\u001b[38;5;241m=\u001b[39m\u001b[38;5;28;01mFalse\u001b[39;00m)\n\u001b[1;32m   1742\u001b[0m \u001b[38;5;28;01mif\u001b[39;00m na_action \u001b[38;5;129;01mis\u001b[39;00m \u001b[38;5;28;01mNone\u001b[39;00m:\n\u001b[0;32m-> 1743\u001b[0m     \u001b[38;5;28;01mreturn\u001b[39;00m \u001b[43mlib\u001b[49m\u001b[38;5;241;43m.\u001b[39;49m\u001b[43mmap_infer\u001b[49m\u001b[43m(\u001b[49m\u001b[43mvalues\u001b[49m\u001b[43m,\u001b[49m\u001b[43m \u001b[49m\u001b[43mmapper\u001b[49m\u001b[43m,\u001b[49m\u001b[43m \u001b[49m\u001b[43mconvert\u001b[49m\u001b[38;5;241;43m=\u001b[39;49m\u001b[43mconvert\u001b[49m\u001b[43m)\u001b[49m\n\u001b[1;32m   1744\u001b[0m \u001b[38;5;28;01melse\u001b[39;00m:\n\u001b[1;32m   1745\u001b[0m     \u001b[38;5;28;01mreturn\u001b[39;00m lib\u001b[38;5;241m.\u001b[39mmap_infer_mask(\n\u001b[1;32m   1746\u001b[0m         values, mapper, mask\u001b[38;5;241m=\u001b[39misna(values)\u001b[38;5;241m.\u001b[39mview(np\u001b[38;5;241m.\u001b[39muint8), convert\u001b[38;5;241m=\u001b[39mconvert\n\u001b[1;32m   1747\u001b[0m     )\n",
      "File \u001b[0;32mlib.pyx:2972\u001b[0m, in \u001b[0;36mpandas._libs.lib.map_infer\u001b[0;34m()\u001b[0m\n",
      "Cell \u001b[0;32mIn[5], line 3\u001b[0m, in \u001b[0;36mpreprocess_text\u001b[0;34m(text)\u001b[0m\n\u001b[1;32m      2\u001b[0m \u001b[38;5;28;01mdef\u001b[39;00m \u001b[38;5;21mpreprocess_text\u001b[39m(text):\n\u001b[0;32m----> 3\u001b[0m     text \u001b[38;5;241m=\u001b[39m \u001b[43mtext\u001b[49m\u001b[38;5;241;43m.\u001b[39;49m\u001b[43mlower\u001b[49m()  \u001b[38;5;66;03m# Lowercase\u001b[39;00m\n\u001b[1;32m      4\u001b[0m     text \u001b[38;5;241m=\u001b[39m re\u001b[38;5;241m.\u001b[39msub(\u001b[38;5;124mr\u001b[39m\u001b[38;5;124m'\u001b[39m\u001b[38;5;124m\\\u001b[39m\u001b[38;5;124md+\u001b[39m\u001b[38;5;124m'\u001b[39m, \u001b[38;5;124m'\u001b[39m\u001b[38;5;124m'\u001b[39m, text)  \u001b[38;5;66;03m# Remove digits\u001b[39;00m\n\u001b[1;32m      5\u001b[0m     text \u001b[38;5;241m=\u001b[39m re\u001b[38;5;241m.\u001b[39msub(\u001b[38;5;124mr\u001b[39m\u001b[38;5;124m'\u001b[39m\u001b[38;5;124m[^\u001b[39m\u001b[38;5;124m\\\u001b[39m\u001b[38;5;124mw\u001b[39m\u001b[38;5;124m\\\u001b[39m\u001b[38;5;124ms]\u001b[39m\u001b[38;5;124m'\u001b[39m, \u001b[38;5;124m'\u001b[39m\u001b[38;5;124m'\u001b[39m, text)  \u001b[38;5;66;03m# Remove punctuation\u001b[39;00m\n",
      "\u001b[0;31mAttributeError\u001b[0m: 'float' object has no attribute 'lower'"
     ]
    }
   ],
   "source": [
    "processed_reviews = reviews.copy()\n",
    "processed_reviews['Review Text'] = reviews['Review Text'].apply(preprocess_text)"
   ]
  },
  {
   "cell_type": "code",
   "execution_count": null,
   "id": "1d3d7e29-5f5c-4e68-a437-028712a89b1b",
   "metadata": {},
   "outputs": [],
   "source": []
  },
  {
   "cell_type": "code",
   "execution_count": null,
   "id": "96744062-e67c-4ecd-b12d-e2c62d3a2ce1",
   "metadata": {},
   "outputs": [],
   "source": []
  },
  {
   "cell_type": "markdown",
   "id": "92630c16-ffb5-47ee-8263-d366d0a4607f",
   "metadata": {},
   "source": [
    "# Part 1: Summarization"
   ]
  },
  {
   "cell_type": "markdown",
   "id": "8f01b48e-9643-47bc-adde-ed87e63ef940",
   "metadata": {},
   "source": [
    "## Transformers"
   ]
  },
  {
   "cell_type": "markdown",
   "id": "59f9c880-0873-41fe-b259-8df4176ab9be",
   "metadata": {},
   "source": [
    "Initializing the pipeline will take a while to run at first, since this function downloads the model weights (about 1.6gb)."
   ]
  },
  {
   "cell_type": "code",
   "execution_count": 13,
   "id": "6fbd3b63-8eeb-4846-a70b-6e29e4dab7a3",
   "metadata": {},
   "outputs": [],
   "source": [
    "model_name = \"facebook/bart-large-cnn\"\n",
    "tokenizer = AutoTokenizer.from_pretrained(model_name)"
   ]
  },
  {
   "cell_type": "code",
   "execution_count": 4,
   "id": "ebbad676-5114-4c67-9fb7-147d0a612722",
   "metadata": {},
   "outputs": [
    {
     "name": "stderr",
     "output_type": "stream",
     "text": [
      "/home/davidnicolay/.local/lib/python3.12/site-packages/transformers/tokenization_utils_base.py:1617: FutureWarning: `clean_up_tokenization_spaces` was not set. It will be set to `True` by default. This behavior will be deprecated in transformers v4.45, and will be then set to `False` by default. For more details check this issue: https://github.com/huggingface/transformers/issues/31884\n",
      "  warnings.warn(\n"
     ]
    }
   ],
   "source": [
    "summarizer = pipeline(\"summarization\", model=model_name)"
   ]
  },
  {
   "cell_type": "markdown",
   "id": "b2cf2f02-1f0c-4c0b-b779-528fb3497d0d",
   "metadata": {},
   "source": [
    "Due to restricted input length of the summarizer the reviews text needs to be divided into chunks."
   ]
  },
  {
   "cell_type": "code",
   "execution_count": 16,
   "id": "62176a75-3abc-4304-adc1-55410253691b",
   "metadata": {},
   "outputs": [],
   "source": [
    "def chunk_text(text, max_chunk_size=500):\n",
    "    words = text.split()\n",
    "    chunks = []\n",
    "    current_chunk = []\n",
    "    current_size = 0\n",
    "    for word in words:\n",
    "        if current_size + len(word) > max_chunk_size:\n",
    "            chunks.append(' '.join(current_chunk))\n",
    "            current_chunk = [word]\n",
    "            current_size = len(word)\n",
    "        else:\n",
    "            current_chunk.append(word)\n",
    "            current_size += len(word) + 1  # +1 for space\n",
    "    if current_chunk:\n",
    "        chunks.append(' '.join(current_chunk))\n",
    "    return chunks\n",
    "\n",
    "def summarize_text(text, max_summary_length=150):\n",
    "    chunks = chunk_text(text)\n",
    "    summaries = []\n",
    "    for chunk in chunks:\n",
    "        summary = summarizer(chunk, max_length=max_summary_length, min_length=10)[0]['summary_text']\n",
    "        summaries.append(summary)\n",
    "    \n",
    "    final_summary = ' '.join(summaries)\n",
    "    if len(final_summary) > max_summary_length:\n",
    "        final_summary = summarizer(final_summary, max_length=max_summary_length, min_length=30)[0]['summary_text']\n",
    "    return final_summary"
   ]
  },
  {
   "cell_type": "markdown",
   "id": "01a6df7e-0359-45a4-9b50-40ff115e4650",
   "metadata": {},
   "source": [
    "Begin by summarizing 1 book's reviews - \"Ways of Seeing\""
   ]
  },
  {
   "cell_type": "code",
   "execution_count": 35,
   "id": "efa5dea0-cc95-4978-8eb2-94fec0ec8ab7",
   "metadata": {},
   "outputs": [],
   "source": [
    "# TODO change model to be able to handle longer length summarize inputs \n",
    "\n",
    "#book_title = \"Ways of Seeing\"\n",
    "# book_df = reviews[reviews['Book Title'] == book_title]\n",
    "\n",
    "# # Concatenate all reviews for the book\n",
    "# all_reviews = ' '.join(book_df['Review Text'].dropna())\n",
    "\n",
    "# # Generate a summary of the concatenated reviews\n",
    "# try:\n",
    "#     summary = summarize_text(all_reviews)\n",
    "# except Exception as e:\n",
    "#     print(f\"An error occurred: {e}\")\n",
    "#     summary = \"Error generating summary\"\n",
    "\n",
    "# # Calculate average rating\n",
    "# avg_rating = book_df['Review Stars'].mean()\n",
    "\n",
    "# # Create a new dataframe with the results\n",
    "# result_df = pd.DataFrame({\n",
    "#     'Book Title': [book_title],\n",
    "#     'Review Summary': [summary],\n",
    "#     'Average Rating': [avg_rating],\n",
    "#     'Number of Reviews': [len(book_df)]\n",
    "# })\n",
    "\n",
    "# # Display the results\n",
    "# print(result_df)\n",
    "\n",
    "# # Print some statistics\n",
    "# print(f\"\\nTotal length of all reviews: {len(all_reviews)} characters\")\n",
    "# print(f\"Length of summary: {len(summary)} characters\")"
   ]
  },
  {
   "cell_type": "code",
   "execution_count": null,
   "id": "695728bb-f0a5-475c-b976-ebf89601a819",
   "metadata": {},
   "outputs": [],
   "source": []
  },
  {
   "cell_type": "markdown",
   "id": "ba206aa4-bb28-4c99-9aa5-668b6f98e2ca",
   "metadata": {},
   "source": [
    "Here we can have a look at how the model does a good job of summarizing (but it essentially picks important sentences), however we still need to present it in a format that explains the overall sentiment from the readers."
   ]
  },
  {
   "cell_type": "code",
   "execution_count": 36,
   "id": "43c2f252-4952-477d-8184-ea5ec09ca297",
   "metadata": {},
   "outputs": [],
   "source": [
    "summary_test = summarizer(book_df.loc[3]['Review Text'], max_length=50, min_length=10)"
   ]
  },
  {
   "cell_type": "code",
   "execution_count": 37,
   "id": "19feaaa1-c1b0-4ce8-a7ef-459ae795c11b",
   "metadata": {},
   "outputs": [
    {
     "data": {
      "text/plain": [
       "[{'summary_text': '4 essays and 3 pictorial essays. It seems like museums are doing a lot of things wrong as well as right. Chapter on oil-painting was particularly interesting but it was the last one about advertising (or \"publicity\"'}]"
      ]
     },
     "execution_count": 37,
     "metadata": {},
     "output_type": "execute_result"
    }
   ],
   "source": [
    "summary_test"
   ]
  },
  {
   "cell_type": "code",
   "execution_count": 38,
   "id": "6de8201a-f1e9-4586-af53-211c09f377c5",
   "metadata": {},
   "outputs": [
    {
     "data": {
      "text/plain": [
       "'First of all, this entire book is set in bold. I don\\'t know what crazy crazyman let that through the gate at Penguin but I just felt I had to point it out right away. It\\'s still worth reading. 4 essays and 3 pictorial essays. Really interesting stuff cutting away some of the bullshit associated with our appreciation of art. It seems like museums are doing a lot of things wrong as well as right. Chapter on oil-painting was particularly interesting but it was the last one about advertising (or \"publicity\" as it\\'s exclusively referred to in this book) that has me thinking. Advertising not only needs you to want this shirt, this car, the entire industry must endeavor to narrow the scope of your desires to make you amenable to the culture. The mindset must always be a future, better you achieved through important purchases. The essay is horrifying enough until you realise that it\\'s thirty years old, and this is now only one facet of a business that\\'s grown much more insidious. The ads shown are almost quaint in their straight sell.'"
      ]
     },
     "execution_count": 38,
     "metadata": {},
     "output_type": "execute_result"
    }
   ],
   "source": [
    "book_df.loc[3]['Review Text']"
   ]
  },
  {
   "cell_type": "code",
   "execution_count": null,
   "id": "4bc71208-cf6e-4d30-bee8-bcf1f8036d6c",
   "metadata": {},
   "outputs": [],
   "source": []
  },
  {
   "cell_type": "code",
   "execution_count": null,
   "id": "d88e2133-dc63-4292-856b-cc4149e35ebf",
   "metadata": {},
   "outputs": [],
   "source": []
  },
  {
   "cell_type": "code",
   "execution_count": null,
   "id": "7c6d203d-6da9-4ba0-bbd4-0260e08f8c21",
   "metadata": {},
   "outputs": [],
   "source": []
  },
  {
   "cell_type": "markdown",
   "id": "efeb0cbf-70c2-4b49-815a-870eb2429542",
   "metadata": {},
   "source": [
    "## Encoder-Decoder Approach"
   ]
  },
  {
   "cell_type": "code",
   "execution_count": 10,
   "id": "7acb5a5a-8269-4371-8828-1426f069a24a",
   "metadata": {},
   "outputs": [],
   "source": [
    "from nltk.tokenize import sent_tokenize\n",
    "import skipthoughts"
   ]
  },
  {
   "cell_type": "code",
   "execution_count": 13,
   "id": "8eb12e3b-d37c-434f-a750-590ac14f3ee8",
   "metadata": {},
   "outputs": [],
   "source": [
    "# ***************************************************************************\n",
    "from sklearn.cluster import KMeans\n",
    "from sklearn.metrics import pairwise_distances_argmin_min\n",
    "# ***************************************************************************\n",
    "\n",
    "\n",
    "def preprocess(emails):\n",
    "    \"\"\"\n",
    "    Performs preprocessing operations such as:\n",
    "\n",
    "        Removing new line characters.\n",
    "    \"\"\"\n",
    "    n_emails = len(emails)\n",
    "    print(n_emails)\n",
    "    for i in range(n_emails):\n",
    "        email = emails[i]\n",
    "        lines = email.split('\\n')\n",
    "        for j in reversed(range(len(lines))):\n",
    "            lines[j] = lines[j].strip()\n",
    "            if lines[j] == '':\n",
    "                lines.pop(j)\n",
    "        emails[i] = ' '.join(lines)\n",
    "        \n",
    "        \n",
    "def split_sentences(emails):\n",
    "    \"\"\"\n",
    "    Splits the emails into individual sentences\n",
    "    \"\"\"\n",
    "    n_emails = len(emails)\n",
    "    for i in range(n_emails):\n",
    "        email = emails[i]\n",
    "        sentences = sent_tokenize(email)\n",
    "        for j in reversed(range(len(sentences))):\n",
    "            sent = sentences[j]\n",
    "            sentences[j] = sent.strip()\n",
    "            if sent == '':\n",
    "                sentences.pop(j)\n",
    "        emails[i] = sentences\n",
    "        \n",
    "        \n",
    "def skipthought_encode(emails):\n",
    "    \"\"\"\n",
    "    Obtains sentence embeddings for each sentence in the emails\n",
    "    \"\"\"\n",
    "    enc_emails = [None]*len(emails)\n",
    "    cum_sum_sentences = [0]\n",
    "    sent_count = 0\n",
    "    for email in emails:\n",
    "        sent_count += len(email)\n",
    "        cum_sum_sentences.append(sent_count)\n",
    "\n",
    "    all_sentences = [sent for email in emails for sent in email]\n",
    "    print('Loading pre-trained models...')\n",
    "    model = skipthoughts.load_model()\n",
    "    encoder = skipthoughts.Encoder(model)\n",
    "    print('Encoding sentences...')\n",
    "    enc_sentences = encoder.encode(all_sentences, verbose=False)\n",
    "\n",
    "    for i in range(len(emails)):\n",
    "        begin = cum_sum_sentences[i]\n",
    "        end = cum_sum_sentences[i+1]\n",
    "        enc_emails[i] = enc_sentences[begin:end]\n",
    "    return enc_emails\n",
    "        \n",
    "    \n",
    "def summarize(emails):\n",
    "    \"\"\"\n",
    "    Performs summarization of emails\n",
    "    \"\"\"\n",
    "    n_emails = len(emails)\n",
    "    summary = [None]*n_emails\n",
    "    print('Preprecesing...')\n",
    "    preprocess(emails)\n",
    "    print('Splitting into sentences...')\n",
    "    split_sentences(emails)\n",
    "    print('Starting to encode...')\n",
    "    enc_emails = skipthought_encode(emails)\n",
    "    print('Encoding Finished')\n",
    "    for i in range(n_emails):\n",
    "        enc_email = enc_emails[i]\n",
    "        n_clusters = int(np.ceil(len(enc_email)**0.5))\n",
    "        kmeans = KMeans(n_clusters=n_clusters, random_state=0)\n",
    "        kmeans = kmeans.fit(enc_email)\n",
    "        avg = []\n",
    "        closest = []\n",
    "        for j in range(n_clusters):\n",
    "            idx = np.where(kmeans.labels_ == j)[0]\n",
    "            avg.append(np.mean(idx))\n",
    "        closest, _ = pairwise_distances_argmin_min(kmeans.cluster_centers_,\\\n",
    "                                                   enc_email)\n",
    "        ordering = sorted(range(n_clusters), key=lambda k: avg[k])\n",
    "        summary[i] = ' '.join([emails[i][closest[idx]] for idx in ordering])\n",
    "    print('Clustering Finished')\n",
    "    return summary"
   ]
  },
  {
   "cell_type": "markdown",
   "id": "9f5a344d-e052-411e-b037-9b719a5b1e68",
   "metadata": {},
   "source": [
    "### First Attempt on a single book's review"
   ]
  },
  {
   "cell_type": "code",
   "execution_count": 24,
   "id": "2739a959-7643-41b1-9e23-2e21c952772f",
   "metadata": {},
   "outputs": [],
   "source": [
    "reviews_subset = reviews[reviews['Book Title'] == 'Ways of Seeing']"
   ]
  },
  {
   "cell_type": "code",
   "execution_count": 26,
   "id": "def4476d-15f0-48bb-adb6-f3c44590a239",
   "metadata": {},
   "outputs": [],
   "source": [
    "reviews_subset = reviews['Review Text']"
   ]
  },
  {
   "cell_type": "code",
   "execution_count": 27,
   "id": "c0363ed2-5433-4a0a-9d14-59d2ee3f7dd6",
   "metadata": {},
   "outputs": [
    {
     "data": {
      "text/plain": [
       "0        This book is based on a television series whic...\n",
       "1        I am not the audience for this book, mainly be...\n",
       "2        Way of Seeing, John Berger Ways of Seeing is a...\n",
       "3        First of all, this entire book is set in bold....\n",
       "4        This was a great introduction to the work of J...\n",
       "                               ...                        \n",
       "29514    I first discovered this book when I was 15 and...\n",
       "29515    As per usual, I loved it, though I feel like t...\n",
       "29516    This was actually the book that made a reader ...\n",
       "29517    charlotte really put her whole brontussy into ...\n",
       "29518    Jane Eyre was orphaned and left in the care of...\n",
       "Name: Review Text, Length: 29519, dtype: object"
      ]
     },
     "execution_count": 27,
     "metadata": {},
     "output_type": "execute_result"
    }
   ],
   "source": [
    "reviews_subset"
   ]
  },
  {
   "cell_type": "code",
   "execution_count": null,
   "id": "f81c45a8-6ce6-45c8-b3ba-707bd7e22a5f",
   "metadata": {},
   "outputs": [],
   "source": []
  },
  {
   "cell_type": "code",
   "execution_count": null,
   "id": "c19353f4-f1bd-424e-9468-9391ce4ad9e6",
   "metadata": {},
   "outputs": [],
   "source": []
  },
  {
   "cell_type": "code",
   "execution_count": null,
   "id": "d2515be6-3d09-449e-bbc3-dcd2f8877455",
   "metadata": {},
   "outputs": [],
   "source": []
  },
  {
   "cell_type": "code",
   "execution_count": null,
   "id": "3928fac9-10b9-46fc-bc7b-98d18b378739",
   "metadata": {},
   "outputs": [],
   "source": []
  },
  {
   "cell_type": "markdown",
   "id": "c87ff5c4-16d0-44db-9776-32baab367ad5",
   "metadata": {},
   "source": [
    "# Part 2: Manual Deep Learning"
   ]
  },
  {
   "cell_type": "markdown",
   "id": "0f8461ae-172c-4c6f-9be0-4550e3e35c53",
   "metadata": {},
   "source": [
    "## Star Prediction"
   ]
  },
  {
   "cell_type": "code",
   "execution_count": 27,
   "id": "87dca2ba-3bc6-4474-ad56-756e004e41b5",
   "metadata": {},
   "outputs": [],
   "source": [
    "# Setup target and predictor datasets\n",
    "X = reviews['Review Text'].values\n",
    "y = reviews['Review Stars'].values"
   ]
  },
  {
   "cell_type": "code",
   "execution_count": null,
   "id": "e6cab88f-a862-4d3c-bb2a-99d4d99592be",
   "metadata": {},
   "outputs": [],
   "source": [
    "# TF-IDF Vectorization\n",
    "vectorizer = TfidfVectorizer(max_features=10000, stop_words='english')\n",
    "X_tfidf = vectorizer.fit_transform(X)\n",
    "\n",
    "# Train-test split\n",
    "X_train, X_test, y_train, y_test = train_test_split(X_tfidf, y, test_size=0.2, random_state=random_seed)\n",
    "\n",
    "# Encode labels\n",
    "label_encoder = LabelEncoder()\n",
    "y_train = label_encoder.fit_transform(y_train)\n",
    "y_test = label_encoder.transform(y_test)\n",
    "\n",
    "# Convert labels to categorical\n",
    "num_classes = len(np.unique(y_train))\n",
    "y_train = tf.keras.utils.to_categorical(y_train, num_classes)\n",
    "y_test = tf.keras.utils.to_categorical(y_test, num_classes)"
   ]
  },
  {
   "cell_type": "code",
   "execution_count": 40,
   "id": "75daf232-eaf2-4b1f-8b12-c901fe69cc53",
   "metadata": {},
   "outputs": [
    {
     "name": "stdout",
     "output_type": "stream",
     "text": [
      "Epoch 1/10\n",
      "\u001b[1m505/505\u001b[0m \u001b[32m━━━━━━━━━━━━━━━━━━━━\u001b[0m\u001b[37m\u001b[0m \u001b[1m3s\u001b[0m 5ms/step - accuracy: 0.4730 - loss: 1.2667 - val_accuracy: 0.5401 - val_loss: 1.0601\n",
      "Epoch 2/10\n",
      "\u001b[1m505/505\u001b[0m \u001b[32m━━━━━━━━━━━━━━━━━━━━\u001b[0m\u001b[37m\u001b[0m \u001b[1m3s\u001b[0m 5ms/step - accuracy: 0.6598 - loss: 0.8296 - val_accuracy: 0.5418 - val_loss: 1.1059\n",
      "Epoch 3/10\n",
      "\u001b[1m505/505\u001b[0m \u001b[32m━━━━━━━━━━━━━━━━━━━━\u001b[0m\u001b[37m\u001b[0m \u001b[1m2s\u001b[0m 5ms/step - accuracy: 0.8133 - loss: 0.5163 - val_accuracy: 0.5057 - val_loss: 1.3474\n",
      "Epoch 4/10\n",
      "\u001b[1m505/505\u001b[0m \u001b[32m━━━━━━━━━━━━━━━━━━━━\u001b[0m\u001b[37m\u001b[0m \u001b[1m2s\u001b[0m 5ms/step - accuracy: 0.9334 - loss: 0.2233 - val_accuracy: 0.5001 - val_loss: 1.9749\n",
      "Epoch 5/10\n",
      "\u001b[1m505/505\u001b[0m \u001b[32m━━━━━━━━━━━━━━━━━━━━\u001b[0m\u001b[37m\u001b[0m \u001b[1m2s\u001b[0m 5ms/step - accuracy: 0.9863 - loss: 0.0553 - val_accuracy: 0.5105 - val_loss: 2.6528\n",
      "Epoch 6/10\n",
      "\u001b[1m505/505\u001b[0m \u001b[32m━━━━━━━━━━━━━━━━━━━━\u001b[0m\u001b[37m\u001b[0m \u001b[1m2s\u001b[0m 5ms/step - accuracy: 0.9957 - loss: 0.0185 - val_accuracy: 0.4947 - val_loss: 3.1868\n",
      "Epoch 7/10\n",
      "\u001b[1m505/505\u001b[0m \u001b[32m━━━━━━━━━━━━━━━━━━━━\u001b[0m\u001b[37m\u001b[0m \u001b[1m2s\u001b[0m 5ms/step - accuracy: 0.9985 - loss: 0.0062 - val_accuracy: 0.4968 - val_loss: 3.4601\n",
      "Epoch 8/10\n",
      "\u001b[1m505/505\u001b[0m \u001b[32m━━━━━━━━━━━━━━━━━━━━\u001b[0m\u001b[37m\u001b[0m \u001b[1m2s\u001b[0m 5ms/step - accuracy: 0.9983 - loss: 0.0061 - val_accuracy: 0.5021 - val_loss: 3.6861\n",
      "Epoch 9/10\n",
      "\u001b[1m505/505\u001b[0m \u001b[32m━━━━━━━━━━━━━━━━━━━━\u001b[0m\u001b[37m\u001b[0m \u001b[1m2s\u001b[0m 5ms/step - accuracy: 0.9986 - loss: 0.0055 - val_accuracy: 0.4982 - val_loss: 3.9007\n",
      "Epoch 10/10\n",
      "\u001b[1m505/505\u001b[0m \u001b[32m━━━━━━━━━━━━━━━━━━━━\u001b[0m\u001b[37m\u001b[0m \u001b[1m3s\u001b[0m 5ms/step - accuracy: 0.9996 - loss: 0.0020 - val_accuracy: 0.5021 - val_loss: 4.0952\n"
     ]
    }
   ],
   "source": [
    "# Build the model\n",
    "model = tf.keras.Sequential([\n",
    "    layers.Input(shape=(X_train.shape[1],)),\n",
    "    tf.keras.layers.Dense(128, activation='relu'),\n",
    "    tf.keras.layers.Dense(64, activation='relu'),\n",
    "    tf.keras.layers.Dense(32, activation='relu'),\n",
    "    tf.keras.layers.Dense(num_classes, activation='softmax')\n",
    "])\n",
    "\n",
    "model.compile(optimizer='adam', loss='categorical_crossentropy', metrics=['accuracy'])\n",
    "\n",
    "# Train the model\n",
    "history = model.fit(X_train.toarray(), y_train, epochs=10, batch_size=32, validation_split=0.3, verbose=1)"
   ]
  },
  {
   "cell_type": "code",
   "execution_count": 41,
   "id": "dbde494c-a1f9-4ca8-8df2-a38f9fe5e0b4",
   "metadata": {},
   "outputs": [
    {
     "name": "stdout",
     "output_type": "stream",
     "text": [
      "Test accuracy: 0.481\n"
     ]
    }
   ],
   "source": [
    "# Evaluate the model\n",
    "test_loss, test_accuracy = model.evaluate(X_test.toarray(), y_test, verbose=0)\n",
    "print(f'Test accuracy: {test_accuracy:.3f}')"
   ]
  },
  {
   "cell_type": "markdown",
   "id": "c4355d99-9925-4f18-9dd7-b687ee5706e7",
   "metadata": {},
   "source": [
    "A test accuracy below 0.5 means we could have predicted 2.5 stars for every review and probably gotten beter results. The training accuracy seems to increase drastically however validation accuracy remains steady at around 0.51. This indicates overfitting."
   ]
  },
  {
   "cell_type": "markdown",
   "id": "01eb2fe7-6793-4cfc-8af3-ea8dfce652d7",
   "metadata": {},
   "source": [
    "TODO\n",
    "- metric graphs\n",
    "- improve model\n",
    "- look online for differnet approachs and things to do to improve\n",
    "- try gradient descent etc"
   ]
  },
  {
   "cell_type": "code",
   "execution_count": null,
   "id": "761eabc7-df37-4786-a739-4d85f2000063",
   "metadata": {},
   "outputs": [],
   "source": []
  },
  {
   "cell_type": "code",
   "execution_count": null,
   "id": "adefceaf-23b4-4ea6-b226-71f0953be857",
   "metadata": {},
   "outputs": [],
   "source": []
  },
  {
   "cell_type": "code",
   "execution_count": null,
   "id": "86c8c973-439e-4890-8e56-373d13259c54",
   "metadata": {},
   "outputs": [],
   "source": []
  },
  {
   "cell_type": "code",
   "execution_count": null,
   "id": "e66c642c-dc06-40b6-9f0d-edea4e3ba425",
   "metadata": {},
   "outputs": [],
   "source": []
  },
  {
   "cell_type": "markdown",
   "id": "9f80e861-6352-4cd8-ae09-fe6f36676fe2",
   "metadata": {},
   "source": [
    "### Example Predictions"
   ]
  },
  {
   "cell_type": "markdown",
   "id": "91dc54f9-ee3b-409e-82c2-2c1704330955",
   "metadata": {},
   "source": [
    "Consider an example of a bad review. \"This book was absolutely terrible! How could you think this was a good idea.\""
   ]
  },
  {
   "cell_type": "code",
   "execution_count": 31,
   "id": "82d55bf8-6ee0-4b07-bcb3-cc4db89a9714",
   "metadata": {},
   "outputs": [
    {
     "name": "stdout",
     "output_type": "stream",
     "text": [
      "\u001b[1m1/1\u001b[0m \u001b[32m━━━━━━━━━━━━━━━━━━━━\u001b[0m\u001b[37m\u001b[0m \u001b[1m0s\u001b[0m 10ms/step\n",
      "Predicted rating: 1\n"
     ]
    }
   ],
   "source": [
    "# Make predictions\n",
    "sample_review = [\"This book was absolutely terrible! How could you think this was a good idea.\"]\n",
    "sample_review_tfidf = vectorizer.transform(sample_review)\n",
    "prediction = model.predict(sample_review_tfidf.toarray())\n",
    "predicted_rating = np.argmax(prediction) + 1\n",
    "print(f'Predicted rating: {predicted_rating}')"
   ]
  },
  {
   "cell_type": "markdown",
   "id": "25cf4f2e-9ae0-4953-856e-07ac75750833",
   "metadata": {},
   "source": [
    "Consider an example of a long mixed review"
   ]
  },
  {
   "cell_type": "code",
   "execution_count": 32,
   "id": "b2ec3016-8439-414d-a1e6-7d3083457bff",
   "metadata": {},
   "outputs": [
    {
     "name": "stdout",
     "output_type": "stream",
     "text": [
      "\u001b[1m1/1\u001b[0m \u001b[32m━━━━━━━━━━━━━━━━━━━━\u001b[0m\u001b[37m\u001b[0m \u001b[1m0s\u001b[0m 12ms/step\n",
      "Predicted rating: 3\n"
     ]
    }
   ],
   "source": [
    "sample_review = [\"I had high hopes for The Infinite Horizon after hearing so much about it. From the beginning, the premise seemed promising, and for the most part, it delivers on its intriguing concept. The plot revolves around a futuristic world where society grapples with the boundaries of artificial intelligence, humanity, and survival—concepts that have always fascinated me. The world-building is impressive, with detailed landscapes and a unique societal structure that keeps you hooked initially. The author has clearly put a lot of thought into constructing the futuristic world, and it shows in the vivid descriptions and creative technologies. However, while the world-building is rich, the characters left much to be desired. The protagonist, Lila, felt underdeveloped. I found myself frustrated at several points because her motivations were either unclear or inconsistent. In the beginning, she starts off as a strong, determined character, but midway through, her actions seem erratic and her growth stagnates. The dialogue, too, felt stilted at times, making it hard to connect with the characters emotionally. There were a few moments where I felt the conversations between key characters were forced, almost like they were inserted to explain plot points rather than feeling organic.On the flip side, I have to give credit where it’s due—the pacing of the story is solid for the most part. There are intense moments where you’re on the edge of your seat, particularly during the battle scenes. These scenes were written with such vivid detail that I could easily imagine them playing out in a movie. The action sequences are well thought out, and they definitely add excitement to the narrative. That being said, there were also moments where the pacing lagged, especially in the middle sections. Some chapters felt like filler, dragging on with unnecessary exposition and side plots that didn’t add much to the overarching story.\"]\n",
    "sample_review_tfidf = vectorizer.transform(sample_review)\n",
    "prediction = model.predict(sample_review_tfidf.toarray())\n",
    "predicted_rating = np.argmax(prediction) + 1\n",
    "print(f'Predicted rating: {predicted_rating}')"
   ]
  },
  {
   "cell_type": "code",
   "execution_count": null,
   "id": "4622fdb5-5172-42f7-992c-d100b8860460",
   "metadata": {},
   "outputs": [],
   "source": []
  },
  {
   "cell_type": "code",
   "execution_count": null,
   "id": "47942b20-7c90-460e-82df-528f4e9d06c9",
   "metadata": {},
   "outputs": [],
   "source": []
  },
  {
   "cell_type": "markdown",
   "id": "a455b952-4e93-4212-9263-c1fc2f1c1b82",
   "metadata": {},
   "source": [
    "# Part 3: Category Generation"
   ]
  },
  {
   "cell_type": "code",
   "execution_count": null,
   "id": "289681e2-c09a-4187-8df9-d62b219647b9",
   "metadata": {},
   "outputs": [],
   "source": []
  }
 ],
 "metadata": {
  "kernelspec": {
   "display_name": "Python 3 (ipykernel)",
   "language": "python",
   "name": "python3"
  },
  "language_info": {
   "codemirror_mode": {
    "name": "ipython",
    "version": 3
   },
   "file_extension": ".py",
   "mimetype": "text/x-python",
   "name": "python",
   "nbconvert_exporter": "python",
   "pygments_lexer": "ipython3",
   "version": "3.12.6"
  }
 },
 "nbformat": 4,
 "nbformat_minor": 5
}
